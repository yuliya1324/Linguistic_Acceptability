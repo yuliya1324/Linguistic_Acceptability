{
  "nbformat": 4,
  "nbformat_minor": 0,
  "metadata": {
    "colab": {
      "provenance": []
    },
    "kernelspec": {
      "name": "python3",
      "display_name": "Python 3"
    },
    "language_info": {
      "name": "python"
    },
    "widgets": {
      "application/vnd.jupyter.widget-state+json": {
        "3b5ac4cbdb454123aae042bfd02bf497": {
          "model_module": "@jupyter-widgets/controls",
          "model_name": "HBoxModel",
          "model_module_version": "1.5.0",
          "state": {
            "_dom_classes": [],
            "_model_module": "@jupyter-widgets/controls",
            "_model_module_version": "1.5.0",
            "_model_name": "HBoxModel",
            "_view_count": null,
            "_view_module": "@jupyter-widgets/controls",
            "_view_module_version": "1.5.0",
            "_view_name": "HBoxView",
            "box_style": "",
            "children": [
              "IPY_MODEL_bc45cc10043444be8c13e4fba0b2ba20",
              "IPY_MODEL_2a2b9d034c274696ab3f45e4f8482335",
              "IPY_MODEL_06a45a5c8a36490f831ced980afc6372"
            ],
            "layout": "IPY_MODEL_af4dfc48167d4299be6d15c00ce8f688"
          }
        },
        "bc45cc10043444be8c13e4fba0b2ba20": {
          "model_module": "@jupyter-widgets/controls",
          "model_name": "HTMLModel",
          "model_module_version": "1.5.0",
          "state": {
            "_dom_classes": [],
            "_model_module": "@jupyter-widgets/controls",
            "_model_module_version": "1.5.0",
            "_model_name": "HTMLModel",
            "_view_count": null,
            "_view_module": "@jupyter-widgets/controls",
            "_view_module_version": "1.5.0",
            "_view_name": "HTMLView",
            "description": "",
            "description_tooltip": null,
            "layout": "IPY_MODEL_bf30a901fbb04707b798caec7dcc98b9",
            "placeholder": "​",
            "style": "IPY_MODEL_030134bf2cbc42fab9fc09482f71edaf",
            "value": "100%"
          }
        },
        "2a2b9d034c274696ab3f45e4f8482335": {
          "model_module": "@jupyter-widgets/controls",
          "model_name": "FloatProgressModel",
          "model_module_version": "1.5.0",
          "state": {
            "_dom_classes": [],
            "_model_module": "@jupyter-widgets/controls",
            "_model_module_version": "1.5.0",
            "_model_name": "FloatProgressModel",
            "_view_count": null,
            "_view_module": "@jupyter-widgets/controls",
            "_view_module_version": "1.5.0",
            "_view_name": "ProgressView",
            "bar_style": "success",
            "description": "",
            "description_tooltip": null,
            "layout": "IPY_MODEL_e301fb444c904000a262fe173ea34603",
            "max": 2,
            "min": 0,
            "orientation": "horizontal",
            "style": "IPY_MODEL_15aaa49059df4f2c92409487bd8241de",
            "value": 2
          }
        },
        "06a45a5c8a36490f831ced980afc6372": {
          "model_module": "@jupyter-widgets/controls",
          "model_name": "HTMLModel",
          "model_module_version": "1.5.0",
          "state": {
            "_dom_classes": [],
            "_model_module": "@jupyter-widgets/controls",
            "_model_module_version": "1.5.0",
            "_model_name": "HTMLModel",
            "_view_count": null,
            "_view_module": "@jupyter-widgets/controls",
            "_view_module_version": "1.5.0",
            "_view_name": "HTMLView",
            "description": "",
            "description_tooltip": null,
            "layout": "IPY_MODEL_2b672fb7852e4e2ba3f3f58c1eb72f73",
            "placeholder": "​",
            "style": "IPY_MODEL_2f5d0f74b6964f8792557195035b52ee",
            "value": " 2/2 [00:00&lt;00:00, 48.23it/s]"
          }
        },
        "af4dfc48167d4299be6d15c00ce8f688": {
          "model_module": "@jupyter-widgets/base",
          "model_name": "LayoutModel",
          "model_module_version": "1.2.0",
          "state": {
            "_model_module": "@jupyter-widgets/base",
            "_model_module_version": "1.2.0",
            "_model_name": "LayoutModel",
            "_view_count": null,
            "_view_module": "@jupyter-widgets/base",
            "_view_module_version": "1.2.0",
            "_view_name": "LayoutView",
            "align_content": null,
            "align_items": null,
            "align_self": null,
            "border": null,
            "bottom": null,
            "display": null,
            "flex": null,
            "flex_flow": null,
            "grid_area": null,
            "grid_auto_columns": null,
            "grid_auto_flow": null,
            "grid_auto_rows": null,
            "grid_column": null,
            "grid_gap": null,
            "grid_row": null,
            "grid_template_areas": null,
            "grid_template_columns": null,
            "grid_template_rows": null,
            "height": null,
            "justify_content": null,
            "justify_items": null,
            "left": null,
            "margin": null,
            "max_height": null,
            "max_width": null,
            "min_height": null,
            "min_width": null,
            "object_fit": null,
            "object_position": null,
            "order": null,
            "overflow": null,
            "overflow_x": null,
            "overflow_y": null,
            "padding": null,
            "right": null,
            "top": null,
            "visibility": null,
            "width": null
          }
        },
        "bf30a901fbb04707b798caec7dcc98b9": {
          "model_module": "@jupyter-widgets/base",
          "model_name": "LayoutModel",
          "model_module_version": "1.2.0",
          "state": {
            "_model_module": "@jupyter-widgets/base",
            "_model_module_version": "1.2.0",
            "_model_name": "LayoutModel",
            "_view_count": null,
            "_view_module": "@jupyter-widgets/base",
            "_view_module_version": "1.2.0",
            "_view_name": "LayoutView",
            "align_content": null,
            "align_items": null,
            "align_self": null,
            "border": null,
            "bottom": null,
            "display": null,
            "flex": null,
            "flex_flow": null,
            "grid_area": null,
            "grid_auto_columns": null,
            "grid_auto_flow": null,
            "grid_auto_rows": null,
            "grid_column": null,
            "grid_gap": null,
            "grid_row": null,
            "grid_template_areas": null,
            "grid_template_columns": null,
            "grid_template_rows": null,
            "height": null,
            "justify_content": null,
            "justify_items": null,
            "left": null,
            "margin": null,
            "max_height": null,
            "max_width": null,
            "min_height": null,
            "min_width": null,
            "object_fit": null,
            "object_position": null,
            "order": null,
            "overflow": null,
            "overflow_x": null,
            "overflow_y": null,
            "padding": null,
            "right": null,
            "top": null,
            "visibility": null,
            "width": null
          }
        },
        "030134bf2cbc42fab9fc09482f71edaf": {
          "model_module": "@jupyter-widgets/controls",
          "model_name": "DescriptionStyleModel",
          "model_module_version": "1.5.0",
          "state": {
            "_model_module": "@jupyter-widgets/controls",
            "_model_module_version": "1.5.0",
            "_model_name": "DescriptionStyleModel",
            "_view_count": null,
            "_view_module": "@jupyter-widgets/base",
            "_view_module_version": "1.2.0",
            "_view_name": "StyleView",
            "description_width": ""
          }
        },
        "e301fb444c904000a262fe173ea34603": {
          "model_module": "@jupyter-widgets/base",
          "model_name": "LayoutModel",
          "model_module_version": "1.2.0",
          "state": {
            "_model_module": "@jupyter-widgets/base",
            "_model_module_version": "1.2.0",
            "_model_name": "LayoutModel",
            "_view_count": null,
            "_view_module": "@jupyter-widgets/base",
            "_view_module_version": "1.2.0",
            "_view_name": "LayoutView",
            "align_content": null,
            "align_items": null,
            "align_self": null,
            "border": null,
            "bottom": null,
            "display": null,
            "flex": null,
            "flex_flow": null,
            "grid_area": null,
            "grid_auto_columns": null,
            "grid_auto_flow": null,
            "grid_auto_rows": null,
            "grid_column": null,
            "grid_gap": null,
            "grid_row": null,
            "grid_template_areas": null,
            "grid_template_columns": null,
            "grid_template_rows": null,
            "height": null,
            "justify_content": null,
            "justify_items": null,
            "left": null,
            "margin": null,
            "max_height": null,
            "max_width": null,
            "min_height": null,
            "min_width": null,
            "object_fit": null,
            "object_position": null,
            "order": null,
            "overflow": null,
            "overflow_x": null,
            "overflow_y": null,
            "padding": null,
            "right": null,
            "top": null,
            "visibility": null,
            "width": null
          }
        },
        "15aaa49059df4f2c92409487bd8241de": {
          "model_module": "@jupyter-widgets/controls",
          "model_name": "ProgressStyleModel",
          "model_module_version": "1.5.0",
          "state": {
            "_model_module": "@jupyter-widgets/controls",
            "_model_module_version": "1.5.0",
            "_model_name": "ProgressStyleModel",
            "_view_count": null,
            "_view_module": "@jupyter-widgets/base",
            "_view_module_version": "1.2.0",
            "_view_name": "StyleView",
            "bar_color": null,
            "description_width": ""
          }
        },
        "2b672fb7852e4e2ba3f3f58c1eb72f73": {
          "model_module": "@jupyter-widgets/base",
          "model_name": "LayoutModel",
          "model_module_version": "1.2.0",
          "state": {
            "_model_module": "@jupyter-widgets/base",
            "_model_module_version": "1.2.0",
            "_model_name": "LayoutModel",
            "_view_count": null,
            "_view_module": "@jupyter-widgets/base",
            "_view_module_version": "1.2.0",
            "_view_name": "LayoutView",
            "align_content": null,
            "align_items": null,
            "align_self": null,
            "border": null,
            "bottom": null,
            "display": null,
            "flex": null,
            "flex_flow": null,
            "grid_area": null,
            "grid_auto_columns": null,
            "grid_auto_flow": null,
            "grid_auto_rows": null,
            "grid_column": null,
            "grid_gap": null,
            "grid_row": null,
            "grid_template_areas": null,
            "grid_template_columns": null,
            "grid_template_rows": null,
            "height": null,
            "justify_content": null,
            "justify_items": null,
            "left": null,
            "margin": null,
            "max_height": null,
            "max_width": null,
            "min_height": null,
            "min_width": null,
            "object_fit": null,
            "object_position": null,
            "order": null,
            "overflow": null,
            "overflow_x": null,
            "overflow_y": null,
            "padding": null,
            "right": null,
            "top": null,
            "visibility": null,
            "width": null
          }
        },
        "2f5d0f74b6964f8792557195035b52ee": {
          "model_module": "@jupyter-widgets/controls",
          "model_name": "DescriptionStyleModel",
          "model_module_version": "1.5.0",
          "state": {
            "_model_module": "@jupyter-widgets/controls",
            "_model_module_version": "1.5.0",
            "_model_name": "DescriptionStyleModel",
            "_view_count": null,
            "_view_module": "@jupyter-widgets/base",
            "_view_module_version": "1.2.0",
            "_view_name": "StyleView",
            "description_width": ""
          }
        },
        "617dc9a2cdbb44a98e67826c118db223": {
          "model_module": "@jupyter-widgets/controls",
          "model_name": "HBoxModel",
          "model_module_version": "1.5.0",
          "state": {
            "_dom_classes": [],
            "_model_module": "@jupyter-widgets/controls",
            "_model_module_version": "1.5.0",
            "_model_name": "HBoxModel",
            "_view_count": null,
            "_view_module": "@jupyter-widgets/controls",
            "_view_module_version": "1.5.0",
            "_view_name": "HBoxView",
            "box_style": "",
            "children": [
              "IPY_MODEL_394c7deccff04626a580fba21a7c0c08",
              "IPY_MODEL_9a895e7cb86f4b10a9a3eb798a49d16d",
              "IPY_MODEL_e4d70e3a61f844a5962d710dd57d6e5c"
            ],
            "layout": "IPY_MODEL_1b6f9d7d954a482b8b7f1c6b8bf25f44"
          }
        },
        "394c7deccff04626a580fba21a7c0c08": {
          "model_module": "@jupyter-widgets/controls",
          "model_name": "HTMLModel",
          "model_module_version": "1.5.0",
          "state": {
            "_dom_classes": [],
            "_model_module": "@jupyter-widgets/controls",
            "_model_module_version": "1.5.0",
            "_model_name": "HTMLModel",
            "_view_count": null,
            "_view_module": "@jupyter-widgets/controls",
            "_view_module_version": "1.5.0",
            "_view_name": "HTMLView",
            "description": "",
            "description_tooltip": null,
            "layout": "IPY_MODEL_38d7c34dddc34bd6a70caddac20c13d4",
            "placeholder": "​",
            "style": "IPY_MODEL_22a4d05f65e04e729e1d4eecd8905ae3",
            "value": "Downloading pytorch_model.bin: 100%"
          }
        },
        "9a895e7cb86f4b10a9a3eb798a49d16d": {
          "model_module": "@jupyter-widgets/controls",
          "model_name": "FloatProgressModel",
          "model_module_version": "1.5.0",
          "state": {
            "_dom_classes": [],
            "_model_module": "@jupyter-widgets/controls",
            "_model_module_version": "1.5.0",
            "_model_name": "FloatProgressModel",
            "_view_count": null,
            "_view_module": "@jupyter-widgets/controls",
            "_view_module_version": "1.5.0",
            "_view_name": "ProgressView",
            "bar_style": "success",
            "description": "",
            "description_tooltip": null,
            "layout": "IPY_MODEL_cefb005f801a49cdafdb6a562ec96ef2",
            "max": 371146213,
            "min": 0,
            "orientation": "horizontal",
            "style": "IPY_MODEL_8372702290af4c92bb57372ae6b03b55",
            "value": 371146213
          }
        },
        "e4d70e3a61f844a5962d710dd57d6e5c": {
          "model_module": "@jupyter-widgets/controls",
          "model_name": "HTMLModel",
          "model_module_version": "1.5.0",
          "state": {
            "_dom_classes": [],
            "_model_module": "@jupyter-widgets/controls",
            "_model_module_version": "1.5.0",
            "_model_name": "HTMLModel",
            "_view_count": null,
            "_view_module": "@jupyter-widgets/controls",
            "_view_module_version": "1.5.0",
            "_view_name": "HTMLView",
            "description": "",
            "description_tooltip": null,
            "layout": "IPY_MODEL_5c1443c928ee42fb834a1c2a4fdcd2c0",
            "placeholder": "​",
            "style": "IPY_MODEL_d1d80a8f1ec549e28cb597371488208f",
            "value": " 371M/371M [00:06&lt;00:00, 63.1MB/s]"
          }
        },
        "1b6f9d7d954a482b8b7f1c6b8bf25f44": {
          "model_module": "@jupyter-widgets/base",
          "model_name": "LayoutModel",
          "model_module_version": "1.2.0",
          "state": {
            "_model_module": "@jupyter-widgets/base",
            "_model_module_version": "1.2.0",
            "_model_name": "LayoutModel",
            "_view_count": null,
            "_view_module": "@jupyter-widgets/base",
            "_view_module_version": "1.2.0",
            "_view_name": "LayoutView",
            "align_content": null,
            "align_items": null,
            "align_self": null,
            "border": null,
            "bottom": null,
            "display": null,
            "flex": null,
            "flex_flow": null,
            "grid_area": null,
            "grid_auto_columns": null,
            "grid_auto_flow": null,
            "grid_auto_rows": null,
            "grid_column": null,
            "grid_gap": null,
            "grid_row": null,
            "grid_template_areas": null,
            "grid_template_columns": null,
            "grid_template_rows": null,
            "height": null,
            "justify_content": null,
            "justify_items": null,
            "left": null,
            "margin": null,
            "max_height": null,
            "max_width": null,
            "min_height": null,
            "min_width": null,
            "object_fit": null,
            "object_position": null,
            "order": null,
            "overflow": null,
            "overflow_x": null,
            "overflow_y": null,
            "padding": null,
            "right": null,
            "top": null,
            "visibility": null,
            "width": null
          }
        },
        "38d7c34dddc34bd6a70caddac20c13d4": {
          "model_module": "@jupyter-widgets/base",
          "model_name": "LayoutModel",
          "model_module_version": "1.2.0",
          "state": {
            "_model_module": "@jupyter-widgets/base",
            "_model_module_version": "1.2.0",
            "_model_name": "LayoutModel",
            "_view_count": null,
            "_view_module": "@jupyter-widgets/base",
            "_view_module_version": "1.2.0",
            "_view_name": "LayoutView",
            "align_content": null,
            "align_items": null,
            "align_self": null,
            "border": null,
            "bottom": null,
            "display": null,
            "flex": null,
            "flex_flow": null,
            "grid_area": null,
            "grid_auto_columns": null,
            "grid_auto_flow": null,
            "grid_auto_rows": null,
            "grid_column": null,
            "grid_gap": null,
            "grid_row": null,
            "grid_template_areas": null,
            "grid_template_columns": null,
            "grid_template_rows": null,
            "height": null,
            "justify_content": null,
            "justify_items": null,
            "left": null,
            "margin": null,
            "max_height": null,
            "max_width": null,
            "min_height": null,
            "min_width": null,
            "object_fit": null,
            "object_position": null,
            "order": null,
            "overflow": null,
            "overflow_x": null,
            "overflow_y": null,
            "padding": null,
            "right": null,
            "top": null,
            "visibility": null,
            "width": null
          }
        },
        "22a4d05f65e04e729e1d4eecd8905ae3": {
          "model_module": "@jupyter-widgets/controls",
          "model_name": "DescriptionStyleModel",
          "model_module_version": "1.5.0",
          "state": {
            "_model_module": "@jupyter-widgets/controls",
            "_model_module_version": "1.5.0",
            "_model_name": "DescriptionStyleModel",
            "_view_count": null,
            "_view_module": "@jupyter-widgets/base",
            "_view_module_version": "1.2.0",
            "_view_name": "StyleView",
            "description_width": ""
          }
        },
        "cefb005f801a49cdafdb6a562ec96ef2": {
          "model_module": "@jupyter-widgets/base",
          "model_name": "LayoutModel",
          "model_module_version": "1.2.0",
          "state": {
            "_model_module": "@jupyter-widgets/base",
            "_model_module_version": "1.2.0",
            "_model_name": "LayoutModel",
            "_view_count": null,
            "_view_module": "@jupyter-widgets/base",
            "_view_module_version": "1.2.0",
            "_view_name": "LayoutView",
            "align_content": null,
            "align_items": null,
            "align_self": null,
            "border": null,
            "bottom": null,
            "display": null,
            "flex": null,
            "flex_flow": null,
            "grid_area": null,
            "grid_auto_columns": null,
            "grid_auto_flow": null,
            "grid_auto_rows": null,
            "grid_column": null,
            "grid_gap": null,
            "grid_row": null,
            "grid_template_areas": null,
            "grid_template_columns": null,
            "grid_template_rows": null,
            "height": null,
            "justify_content": null,
            "justify_items": null,
            "left": null,
            "margin": null,
            "max_height": null,
            "max_width": null,
            "min_height": null,
            "min_width": null,
            "object_fit": null,
            "object_position": null,
            "order": null,
            "overflow": null,
            "overflow_x": null,
            "overflow_y": null,
            "padding": null,
            "right": null,
            "top": null,
            "visibility": null,
            "width": null
          }
        },
        "8372702290af4c92bb57372ae6b03b55": {
          "model_module": "@jupyter-widgets/controls",
          "model_name": "ProgressStyleModel",
          "model_module_version": "1.5.0",
          "state": {
            "_model_module": "@jupyter-widgets/controls",
            "_model_module_version": "1.5.0",
            "_model_name": "ProgressStyleModel",
            "_view_count": null,
            "_view_module": "@jupyter-widgets/base",
            "_view_module_version": "1.2.0",
            "_view_name": "StyleView",
            "bar_color": null,
            "description_width": ""
          }
        },
        "5c1443c928ee42fb834a1c2a4fdcd2c0": {
          "model_module": "@jupyter-widgets/base",
          "model_name": "LayoutModel",
          "model_module_version": "1.2.0",
          "state": {
            "_model_module": "@jupyter-widgets/base",
            "_model_module_version": "1.2.0",
            "_model_name": "LayoutModel",
            "_view_count": null,
            "_view_module": "@jupyter-widgets/base",
            "_view_module_version": "1.2.0",
            "_view_name": "LayoutView",
            "align_content": null,
            "align_items": null,
            "align_self": null,
            "border": null,
            "bottom": null,
            "display": null,
            "flex": null,
            "flex_flow": null,
            "grid_area": null,
            "grid_auto_columns": null,
            "grid_auto_flow": null,
            "grid_auto_rows": null,
            "grid_column": null,
            "grid_gap": null,
            "grid_row": null,
            "grid_template_areas": null,
            "grid_template_columns": null,
            "grid_template_rows": null,
            "height": null,
            "justify_content": null,
            "justify_items": null,
            "left": null,
            "margin": null,
            "max_height": null,
            "max_width": null,
            "min_height": null,
            "min_width": null,
            "object_fit": null,
            "object_position": null,
            "order": null,
            "overflow": null,
            "overflow_x": null,
            "overflow_y": null,
            "padding": null,
            "right": null,
            "top": null,
            "visibility": null,
            "width": null
          }
        },
        "d1d80a8f1ec549e28cb597371488208f": {
          "model_module": "@jupyter-widgets/controls",
          "model_name": "DescriptionStyleModel",
          "model_module_version": "1.5.0",
          "state": {
            "_model_module": "@jupyter-widgets/controls",
            "_model_module_version": "1.5.0",
            "_model_name": "DescriptionStyleModel",
            "_view_count": null,
            "_view_module": "@jupyter-widgets/base",
            "_view_module_version": "1.2.0",
            "_view_name": "StyleView",
            "description_width": ""
          }
        }
      }
    }
  },
  "cells": [
    {
      "cell_type": "code",
      "source": [
        "from scipy.stats import ttest_ind"
      ],
      "metadata": {
        "id": "eMHZbIu24LsW"
      },
      "execution_count": 21,
      "outputs": []
    },
    {
      "cell_type": "code",
      "source": [
        "pip install transformers datasets sentencepiece --quiet"
      ],
      "metadata": {
        "id": "Y3U2K1dx2_kO"
      },
      "execution_count": 1,
      "outputs": []
    },
    {
      "cell_type": "code",
      "execution_count": 2,
      "metadata": {
        "id": "QLInyG8G15Xq"
      },
      "outputs": [],
      "source": [
        "import json\n",
        "import logging\n",
        "import os\n",
        "import re\n",
        "import string\n",
        "from pathlib import Path\n",
        "import pandas as pd\n",
        "import matplotlib.pyplot as plt\n",
        "\n",
        "import torch\n",
        "from torch.utils.data import DataLoader, DistributedSampler, Dataset\n",
        "import numpy as np\n",
        "import transformers  # noqa: E402\n",
        "from transformers import AutoModel, AutoTokenizer, HfArgumentParser  # noqa: E402\n",
        "from cola_process import process_data\n",
        "from datasets import load_dataset\n",
        "import sentencepiece"
      ]
    },
    {
      "cell_type": "code",
      "source": [
        "ds = load_dataset('linxinyuan/cola')\n",
        "ds_train = pd.DataFrame(ds[\"train\"])\n",
        "ds_test = pd.DataFrame(ds[\"test\"])"
      ],
      "metadata": {
        "colab": {
          "base_uri": "https://localhost:8080/",
          "height": 86,
          "referenced_widgets": [
            "3b5ac4cbdb454123aae042bfd02bf497",
            "bc45cc10043444be8c13e4fba0b2ba20",
            "2a2b9d034c274696ab3f45e4f8482335",
            "06a45a5c8a36490f831ced980afc6372",
            "af4dfc48167d4299be6d15c00ce8f688",
            "bf30a901fbb04707b798caec7dcc98b9",
            "030134bf2cbc42fab9fc09482f71edaf",
            "e301fb444c904000a262fe173ea34603",
            "15aaa49059df4f2c92409487bd8241de",
            "2b672fb7852e4e2ba3f3f58c1eb72f73",
            "2f5d0f74b6964f8792557195035b52ee"
          ]
        },
        "id": "99X7O0IJ3NCe",
        "outputId": "494866be-060a-44c8-e7b4-a4ee2b929cc3"
      },
      "execution_count": 3,
      "outputs": [
        {
          "output_type": "stream",
          "name": "stderr",
          "text": [
            "WARNING:datasets.builder:Found cached dataset cola (/root/.cache/huggingface/datasets/linxinyuan___cola/default/0.0.0/0871d55203d4de46ef1815400998ed8f219236694f0d03786bde849741f04cd4)\n"
          ]
        },
        {
          "output_type": "display_data",
          "data": {
            "text/plain": [
              "  0%|          | 0/2 [00:00<?, ?it/s]"
            ],
            "application/vnd.jupyter.widget-view+json": {
              "version_major": 2,
              "version_minor": 0,
              "model_id": "3b5ac4cbdb454123aae042bfd02bf497"
            }
          },
          "metadata": {}
        }
      ]
    },
    {
      "cell_type": "code",
      "source": [
        "MODEL_NAME = 'microsoft/deberta-v3-base'\n",
        "\n",
        "tokenizer = AutoTokenizer.from_pretrained(MODEL_NAME)\n",
        "model = AutoModel.from_pretrained(MODEL_NAME)"
      ],
      "metadata": {
        "colab": {
          "base_uri": "https://localhost:8080/",
          "height": 218,
          "referenced_widgets": [
            "617dc9a2cdbb44a98e67826c118db223",
            "394c7deccff04626a580fba21a7c0c08",
            "9a895e7cb86f4b10a9a3eb798a49d16d",
            "e4d70e3a61f844a5962d710dd57d6e5c",
            "1b6f9d7d954a482b8b7f1c6b8bf25f44",
            "38d7c34dddc34bd6a70caddac20c13d4",
            "22a4d05f65e04e729e1d4eecd8905ae3",
            "cefb005f801a49cdafdb6a562ec96ef2",
            "8372702290af4c92bb57372ae6b03b55",
            "5c1443c928ee42fb834a1c2a4fdcd2c0",
            "d1d80a8f1ec549e28cb597371488208f"
          ]
        },
        "id": "inhnzV1u38aX",
        "outputId": "c7d9c6f7-73b1-4a0e-83a6-29aa98be4bc7"
      },
      "execution_count": 4,
      "outputs": [
        {
          "output_type": "stream",
          "name": "stderr",
          "text": [
            "Special tokens have been added in the vocabulary, make sure the associated word embeddings are fine-tuned or trained.\n",
            "/usr/local/lib/python3.9/dist-packages/transformers/convert_slow_tokenizer.py:446: UserWarning: The sentencepiece tokenizer that you are converting to a fast tokenizer uses the byte fallback option which is not implemented in the fast tokenizers. In practice this means that the fast version of the tokenizer can produce unknown tokens whereas the sentencepiece version would have converted these unknown tokens into a sequence of byte tokens matching the original piece of text.\n",
            "  warnings.warn(\n",
            "Special tokens have been added in the vocabulary, make sure the associated word embeddings are fine-tuned or trained.\n"
          ]
        },
        {
          "output_type": "display_data",
          "data": {
            "text/plain": [
              "Downloading pytorch_model.bin:   0%|          | 0.00/371M [00:00<?, ?B/s]"
            ],
            "application/vnd.jupyter.widget-view+json": {
              "version_major": 2,
              "version_minor": 0,
              "model_id": "617dc9a2cdbb44a98e67826c118db223"
            }
          },
          "metadata": {}
        },
        {
          "output_type": "stream",
          "name": "stderr",
          "text": [
            "Some weights of the model checkpoint at microsoft/deberta-v3-base were not used when initializing DebertaV2Model: ['mask_predictions.LayerNorm.weight', 'lm_predictions.lm_head.bias', 'mask_predictions.dense.bias', 'mask_predictions.dense.weight', 'lm_predictions.lm_head.dense.bias', 'lm_predictions.lm_head.LayerNorm.weight', 'lm_predictions.lm_head.dense.weight', 'mask_predictions.classifier.bias', 'mask_predictions.classifier.weight', 'mask_predictions.LayerNorm.bias', 'lm_predictions.lm_head.LayerNorm.bias']\n",
            "- This IS expected if you are initializing DebertaV2Model from the checkpoint of a model trained on another task or with another architecture (e.g. initializing a BertForSequenceClassification model from a BertForPreTraining model).\n",
            "- This IS NOT expected if you are initializing DebertaV2Model from the checkpoint of a model that you expect to be exactly identical (initializing a BertForSequenceClassification model from a BertForSequenceClassification model).\n"
          ]
        }
      ]
    },
    {
      "cell_type": "code",
      "source": [
        "processed_df = process_data(ds_train, MODEL_NAME)"
      ],
      "metadata": {
        "colab": {
          "base_uri": "https://localhost:8080/"
        },
        "id": "JylejXDb4JUC",
        "outputId": "6e273001-7552-4532-9cbf-a148f28589c3"
      },
      "execution_count": 6,
      "outputs": [
        {
          "output_type": "stream",
          "name": "stderr",
          "text": [
            "Special tokens have been added in the vocabulary, make sure the associated word embeddings are fine-tuned or trained.\n",
            "/usr/local/lib/python3.9/dist-packages/transformers/convert_slow_tokenizer.py:446: UserWarning: The sentencepiece tokenizer that you are converting to a fast tokenizer uses the byte fallback option which is not implemented in the fast tokenizers. In practice this means that the fast version of the tokenizer can produce unknown tokens whereas the sentencepiece version would have converted these unknown tokens into a sequence of byte tokens matching the original piece of text.\n",
            "  warnings.warn(\n",
            "Special tokens have been added in the vocabulary, make sure the associated word embeddings are fine-tuned or trained.\n"
          ]
        }
      ]
    },
    {
      "cell_type": "code",
      "source": [
        "processed_df.head()"
      ],
      "metadata": {
        "colab": {
          "base_uri": "https://localhost:8080/",
          "height": 302
        },
        "id": "Uz5BLOa2GXKe",
        "outputId": "cd26c49a-3d79-4159-d00e-3ad7f010ed03"
      },
      "execution_count": 30,
      "outputs": [
        {
          "output_type": "execute_result",
          "data": {
            "text/plain": [
              "                                                   0  \\\n",
              "0  One more pseudo generalization and I'm giving up.   \n",
              "1             The gardener watered the flowers flat.   \n",
              "2                                They drank the pub.   \n",
              "3                               We yelled ourselves.   \n",
              "4                           They made him president.   \n",
              "\n",
              "                                                  1       type  ungram  \\\n",
              "0  One more pseudo generalization or I'm giving up.       swap       2   \n",
              "1                 The gardener watered the flowers.  insertion       2   \n",
              "2                           They drank the pub dry.   deletion       1   \n",
              "3                       We yelled ourselves hoarse.   deletion       1   \n",
              "4                              They made him angry.       swap       2   \n",
              "\n",
              "  watch_points  \n",
              "0          [4]  \n",
              "1          [5]  \n",
              "2          [4]  \n",
              "3          [3]  \n",
              "4          [3]  "
            ],
            "text/html": [
              "\n",
              "  <div id=\"df-c8873897-59e6-4bae-926b-b65c42fad1c4\">\n",
              "    <div class=\"colab-df-container\">\n",
              "      <div>\n",
              "<style scoped>\n",
              "    .dataframe tbody tr th:only-of-type {\n",
              "        vertical-align: middle;\n",
              "    }\n",
              "\n",
              "    .dataframe tbody tr th {\n",
              "        vertical-align: top;\n",
              "    }\n",
              "\n",
              "    .dataframe thead th {\n",
              "        text-align: right;\n",
              "    }\n",
              "</style>\n",
              "<table border=\"1\" class=\"dataframe\">\n",
              "  <thead>\n",
              "    <tr style=\"text-align: right;\">\n",
              "      <th></th>\n",
              "      <th>0</th>\n",
              "      <th>1</th>\n",
              "      <th>type</th>\n",
              "      <th>ungram</th>\n",
              "      <th>watch_points</th>\n",
              "    </tr>\n",
              "  </thead>\n",
              "  <tbody>\n",
              "    <tr>\n",
              "      <th>0</th>\n",
              "      <td>One more pseudo generalization and I'm giving up.</td>\n",
              "      <td>One more pseudo generalization or I'm giving up.</td>\n",
              "      <td>swap</td>\n",
              "      <td>2</td>\n",
              "      <td>[4]</td>\n",
              "    </tr>\n",
              "    <tr>\n",
              "      <th>1</th>\n",
              "      <td>The gardener watered the flowers flat.</td>\n",
              "      <td>The gardener watered the flowers.</td>\n",
              "      <td>insertion</td>\n",
              "      <td>2</td>\n",
              "      <td>[5]</td>\n",
              "    </tr>\n",
              "    <tr>\n",
              "      <th>2</th>\n",
              "      <td>They drank the pub.</td>\n",
              "      <td>They drank the pub dry.</td>\n",
              "      <td>deletion</td>\n",
              "      <td>1</td>\n",
              "      <td>[4]</td>\n",
              "    </tr>\n",
              "    <tr>\n",
              "      <th>3</th>\n",
              "      <td>We yelled ourselves.</td>\n",
              "      <td>We yelled ourselves hoarse.</td>\n",
              "      <td>deletion</td>\n",
              "      <td>1</td>\n",
              "      <td>[3]</td>\n",
              "    </tr>\n",
              "    <tr>\n",
              "      <th>4</th>\n",
              "      <td>They made him president.</td>\n",
              "      <td>They made him angry.</td>\n",
              "      <td>swap</td>\n",
              "      <td>2</td>\n",
              "      <td>[3]</td>\n",
              "    </tr>\n",
              "  </tbody>\n",
              "</table>\n",
              "</div>\n",
              "      <button class=\"colab-df-convert\" onclick=\"convertToInteractive('df-c8873897-59e6-4bae-926b-b65c42fad1c4')\"\n",
              "              title=\"Convert this dataframe to an interactive table.\"\n",
              "              style=\"display:none;\">\n",
              "        \n",
              "  <svg xmlns=\"http://www.w3.org/2000/svg\" height=\"24px\"viewBox=\"0 0 24 24\"\n",
              "       width=\"24px\">\n",
              "    <path d=\"M0 0h24v24H0V0z\" fill=\"none\"/>\n",
              "    <path d=\"M18.56 5.44l.94 2.06.94-2.06 2.06-.94-2.06-.94-.94-2.06-.94 2.06-2.06.94zm-11 1L8.5 8.5l.94-2.06 2.06-.94-2.06-.94L8.5 2.5l-.94 2.06-2.06.94zm10 10l.94 2.06.94-2.06 2.06-.94-2.06-.94-.94-2.06-.94 2.06-2.06.94z\"/><path d=\"M17.41 7.96l-1.37-1.37c-.4-.4-.92-.59-1.43-.59-.52 0-1.04.2-1.43.59L10.3 9.45l-7.72 7.72c-.78.78-.78 2.05 0 2.83L4 21.41c.39.39.9.59 1.41.59.51 0 1.02-.2 1.41-.59l7.78-7.78 2.81-2.81c.8-.78.8-2.07 0-2.86zM5.41 20L4 18.59l7.72-7.72 1.47 1.35L5.41 20z\"/>\n",
              "  </svg>\n",
              "      </button>\n",
              "      \n",
              "  <style>\n",
              "    .colab-df-container {\n",
              "      display:flex;\n",
              "      flex-wrap:wrap;\n",
              "      gap: 12px;\n",
              "    }\n",
              "\n",
              "    .colab-df-convert {\n",
              "      background-color: #E8F0FE;\n",
              "      border: none;\n",
              "      border-radius: 50%;\n",
              "      cursor: pointer;\n",
              "      display: none;\n",
              "      fill: #1967D2;\n",
              "      height: 32px;\n",
              "      padding: 0 0 0 0;\n",
              "      width: 32px;\n",
              "    }\n",
              "\n",
              "    .colab-df-convert:hover {\n",
              "      background-color: #E2EBFA;\n",
              "      box-shadow: 0px 1px 2px rgba(60, 64, 67, 0.3), 0px 1px 3px 1px rgba(60, 64, 67, 0.15);\n",
              "      fill: #174EA6;\n",
              "    }\n",
              "\n",
              "    [theme=dark] .colab-df-convert {\n",
              "      background-color: #3B4455;\n",
              "      fill: #D2E3FC;\n",
              "    }\n",
              "\n",
              "    [theme=dark] .colab-df-convert:hover {\n",
              "      background-color: #434B5C;\n",
              "      box-shadow: 0px 1px 3px 1px rgba(0, 0, 0, 0.15);\n",
              "      filter: drop-shadow(0px 1px 2px rgba(0, 0, 0, 0.3));\n",
              "      fill: #FFFFFF;\n",
              "    }\n",
              "  </style>\n",
              "\n",
              "      <script>\n",
              "        const buttonEl =\n",
              "          document.querySelector('#df-c8873897-59e6-4bae-926b-b65c42fad1c4 button.colab-df-convert');\n",
              "        buttonEl.style.display =\n",
              "          google.colab.kernel.accessAllowed ? 'block' : 'none';\n",
              "\n",
              "        async function convertToInteractive(key) {\n",
              "          const element = document.querySelector('#df-c8873897-59e6-4bae-926b-b65c42fad1c4');\n",
              "          const dataTable =\n",
              "            await google.colab.kernel.invokeFunction('convertToInteractive',\n",
              "                                                     [key], {});\n",
              "          if (!dataTable) return;\n",
              "\n",
              "          const docLinkHtml = 'Like what you see? Visit the ' +\n",
              "            '<a target=\"_blank\" href=https://colab.research.google.com/notebooks/data_table.ipynb>data table notebook</a>'\n",
              "            + ' to learn more about interactive tables.';\n",
              "          element.innerHTML = '';\n",
              "          dataTable['output_type'] = 'display_data';\n",
              "          await google.colab.output.renderOutput(dataTable, element);\n",
              "          const docLink = document.createElement('div');\n",
              "          docLink.innerHTML = docLinkHtml;\n",
              "          element.appendChild(docLink);\n",
              "        }\n",
              "      </script>\n",
              "    </div>\n",
              "  </div>\n",
              "  "
            ]
          },
          "metadata": {},
          "execution_count": 30
        }
      ]
    },
    {
      "cell_type": "markdown",
      "source": [
        "Выделяются четыре типа ошибок: замена слова (swap), вставка слова (insertion), удаление слова (deletion) и изменение порядка слоа (order). Интересуещее нас значение ungram - 1, которое означает, что при изменении произошел переход от граммтичного предложения 1 к неграмматичному предложению 0. watch_point - номер токена, на котором \"происходит неграмматичность\". "
      ],
      "metadata": {
        "id": "Mp99EsurGggg"
      }
    },
    {
      "cell_type": "code",
      "source": [],
      "metadata": {
        "id": "GbiOGkqiGfv5"
      },
      "execution_count": null,
      "outputs": []
    },
    {
      "cell_type": "code",
      "source": [
        "class ColaDataset(Dataset):\n",
        "    def __init__(self, data):\n",
        "        self.data = data\n",
        "\n",
        "    def __len__(self):\n",
        "        return self.data.shape[0]\n",
        "    \n",
        "    def __getitem__(self, idx):\n",
        "        out = {0: self.data[0][idx],\n",
        "               1: self.data[1][idx],\n",
        "               'watch_points': self.data['watch_points'][idx]}\n",
        "        return out\n",
        "  \n",
        "def collect_statistics(batch, outs, err_type):\n",
        "    stats = []\n",
        "    for i in range(batch['watch_points'].shape[0]):\n",
        "        cur_stats = {}\n",
        "        wp = batch['watch_points'][i]\n",
        "        gr_wp_in = torch.stack([layer[i*2, :, :batch['offsets'][i*2], wp].squeeze().sum(dim=0) for layer in outs['attentions']]).sum(dim=0)\n",
        "        un_wp_in = torch.stack([layer[i*2+1, :, :batch['offsets'][i*2], wp].squeeze().sum(dim=0) for layer in outs['attentions']]).sum(dim=0)\n",
        "        gr_wp_out = torch.stack([layer[i*2, :, wp, :batch['offsets'][i*2+1]].squeeze().sum(dim=0) for layer in outs['attentions']]).sum(dim=0)\n",
        "        un_wp_out = torch.stack([layer[i*2+1, :, wp, :batch['offsets'][i*2+1]].squeeze().sum(dim=0) for layer in outs['attentions']]).sum(dim=0)\n",
        "        cur_stats['mean_in_gr'] = gr_wp_in.mean()\n",
        "        cur_stats['mean_in_un'] = un_wp_in.mean()\n",
        "        cur_stats['mean_out_gr'] = gr_wp_out.mean()\n",
        "        cur_stats['mean_out_un'] = un_wp_out.mean()\n",
        "        if err_type == 'swap':\n",
        "            cur_stats['max_in_change_token'] = tokenizer.decode(batch['data']['input_ids'][i*2][torch.argmax((un_wp_in - gr_wp_in).abs())])\n",
        "            cur_stats['max_out_change_token'] = tokenizer.decode(batch['data']['input_ids'][i*2][torch.argmax((un_wp_out - gr_wp_out).abs())])\n",
        "        # elif err_type == 'insertion':\n",
        "\n",
        "        stats.append(cur_stats)\n",
        "    return stats\n",
        "def plot_attentions(batch, outs, err_type, model_name):\n",
        "    model_name = model_name.replace('/', '_')\n",
        "    if not os.path.exists(model_name):\n",
        "        os.mkdir(model_name)\n",
        "    if not os.path.exists(os.path.join(model_name, err_type)):\n",
        "        os.mkdir(os.path.join(model_name, err_type))\n",
        "    for i in range(1):\n",
        "        cur_tokens1 = [tokenizer.decode(token) for token in batch['data']['input_ids'][i*2]][:batch['offsets'][i*2]]\n",
        "        cur_tokens0 = [tokenizer.decode(token) for token in batch['data']['input_ids'][i*2+1]][:batch['offsets'][i*2+1]]\n",
        "        for layer in range(12):\n",
        "            fig = plt.figure(figsize=(24, 36))\n",
        "            for head in range(12):\n",
        "                ax = fig.add_subplot(6, 4, head*2+1)\n",
        "                ax.matshow(outs['attentions'][layer][i*2, head, :batch['offsets'][i*2],:batch['offsets'][i*2]], cmap='Reds')\n",
        "                fontdict = {'fontsize': 20}\n",
        "                ax.set_xticks(range(len(cur_tokens1)))\n",
        "                ax.set_yticks(range(len(cur_tokens1)))\n",
        "                ax.set_yticklabels(cur_tokens1, fontdict=fontdict)\n",
        "                ax.set_xticklabels(cur_tokens1, fontdict=fontdict, rotation=90)\n",
        "                ax.set_xlabel(f'''Ex {i+1}, layer {layer}, head {head}, grammatical ''', fontdict)  \n",
        "                ax = fig.add_subplot(6, 4, head*2+2)\n",
        "                ax.matshow(outs['attentions'][layer][i*2+1, head, :batch['offsets'][i*2+1],:batch['offsets'][i*2+1]], cmap='Reds')\n",
        "                fontdict = {'fontsize': 20}\n",
        "                ax.set_xticks(range(len(cur_tokens0)))\n",
        "                ax.set_yticks(range(len(cur_tokens0)))\n",
        "                ax.set_yticklabels(cur_tokens0, fontdict=fontdict)\n",
        "                ax.set_xticklabels(cur_tokens0, fontdict=fontdict, rotation=90)\n",
        "                ax.set_xlabel(f'''Ex {i+1}, layer {layer}, head {head}, ungrammatical ''', fontdict)  \n",
        "            plt.tight_layout()\n",
        "            plt.savefig(os.path.join(model_name, err_type, str(f'ex{i}layer{layer}')))\n",
        "            plt.close()\n",
        "\n",
        "encode_plus_kwargs = {\n",
        "    'add_special_tokens': False,\n",
        "    'padding': 'longest',\n",
        "    'pad_to_multiple_of': 1\n",
        "}\n",
        "\n",
        "def collate_fn(batch):\n",
        "    samples = []\n",
        "    [samples.extend(j) for j in [[batch[i][1], batch[i][0]] for i in range(len(batch))]]\n",
        "    \n",
        "    out_data = tokenizer.batch_encode_plus(samples, return_tensors='pt', **encode_plus_kwargs)\n",
        "    out_batch = {'data':out_data,\n",
        "                'watch_points': np.array([batch[i]['watch_points'] for i in range(len(batch))]),\n",
        "                'offsets': (out_data['input_ids'] >0).sum(dim=1).numpy()}\n",
        "    return out_batch\n",
        "\n",
        "def run_test(model, tokenizer, err_type):\n",
        "    cola_ds = ColaDataset(processed_df[(processed_df['type'] == err_type) & (processed_df['ungram'] == 1)].reset_index())\n",
        "    cola_dl = DataLoader(cola_ds, batch_size=4, num_workers=2, collate_fn=collate_fn)\n",
        "    all_stat = []\n",
        "    with torch.no_grad():\n",
        "        for i, batch in enumerate(cola_dl):\n",
        "            outs = model(output_attentions=True, **batch['data'])\n",
        "            if i == 0:\n",
        "                plot_attentions(batch, outs, err_type, MODEL_NAME)\n",
        "            all_stat.extend(collect_statistics(batch, outs, err_type))\n",
        "    return all_stat"
      ],
      "metadata": {
        "id": "I0zDU7RR47B8"
      },
      "execution_count": 19,
      "outputs": []
    },
    {
      "cell_type": "code",
      "source": [
        "stats = run_test(model, tokenizer, 'swap')"
      ],
      "metadata": {
        "id": "SZ18aPWf5JHY"
      },
      "execution_count": 20,
      "outputs": []
    },
    {
      "cell_type": "code",
      "source": [
        "mean_in_gr = [ex['mean_in_gr'].item() for ex in  stats]\n",
        "mean_in_un = [ex['mean_in_un'].item() for ex in  stats]"
      ],
      "metadata": {
        "id": "5r5lNWWb_y9B"
      },
      "execution_count": 25,
      "outputs": []
    },
    {
      "cell_type": "code",
      "source": [
        "ttest_ind(mean_in_gr, mean_in_un).pvalue"
      ],
      "metadata": {
        "colab": {
          "base_uri": "https://localhost:8080/"
        },
        "id": "cqrIw8ZhBSAm",
        "outputId": "aaf8833a-2a7a-4567-f4d5-c4b142f36bd2"
      },
      "execution_count": 29,
      "outputs": [
        {
          "output_type": "execute_result",
          "data": {
            "text/plain": [
              "0.8336242929339761"
            ]
          },
          "metadata": {},
          "execution_count": 29
        }
      ]
    },
    {
      "cell_type": "code",
      "source": [
        "mean_out_gr = [ex['mean_out_gr'].item() for ex in  stats]\n",
        "mean_out_un = [ex['mean_out_un'].item() for ex in  stats]"
      ],
      "metadata": {
        "id": "LV24WN3kFSgJ"
      },
      "execution_count": 27,
      "outputs": []
    },
    {
      "cell_type": "code",
      "source": [
        "ttest_ind(mean_out_gr, mean_out_un)"
      ],
      "metadata": {
        "colab": {
          "base_uri": "https://localhost:8080/"
        },
        "id": "-BGnwTW2Fray",
        "outputId": "74402cad-0ca2-4598-a2f9-75d6f2bd08b3"
      },
      "execution_count": 28,
      "outputs": [
        {
          "output_type": "execute_result",
          "data": {
            "text/plain": [
              "Ttest_indResult(statistic=1.365890382826457e-07, pvalue=0.9999998910677874)"
            ]
          },
          "metadata": {},
          "execution_count": 28
        }
      ]
    },
    {
      "cell_type": "code",
      "source": [],
      "metadata": {
        "id": "uepBhtd5FvXE"
      },
      "execution_count": null,
      "outputs": []
    }
  ]
}